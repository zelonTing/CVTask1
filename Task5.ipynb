{
 "cells": [
  {
   "cell_type": "markdown",
   "metadata": {},
   "source": [
    "# 模型集成\n"
   ]
  },
  {
   "cell_type": "code",
   "execution_count": null,
   "metadata": {},
   "outputs": [],
   "source": [
    "# 1、将数据扩增方法，用到模型预测的阶段。对一个样本进行多次预测，再对结果进行平均。"
   ]
  },
  {
   "cell_type": "code",
   "execution_count": null,
   "metadata": {},
   "outputs": [],
   "source": [
    "def predict(test_loader, model, tta=10):\n",
    "   model.eval()\n",
    "   test_pred_tta = None\n",
    "   # TTA 次数\n",
    "   for _ in range(tta):\n",
    "       test_pred = []\n",
    "   \n",
    "       with torch.no_grad():\n",
    "           for i, (input, target) in enumerate(test_loader):\n",
    "               c0, c1, c2, c3, c4, c5 = model(data[0])\n",
    "               output = np.concatenate([c0.data.numpy(), c1.data.numpy(),\n",
    "                  c2.data.numpy(), c3.data.numpy(),\n",
    "                  c4.data.numpy(), c5.data.numpy()], axis=1)\n",
    "               test_pred.append(output)\n",
    "       \n",
    "       test_pred = np.vstack(test_pred)\n",
    "       if test_pred_tta is None:\n",
    "           test_pred_tta = test_pred\n",
    "       else:\n",
    "           test_pred_tta += test_pred\n",
    "   \n",
    "   return test_pred_tta"
   ]
  },
  {
   "cell_type": "code",
   "execution_count": null,
   "metadata": {},
   "outputs": [],
   "source": [
    "#这部分内容没有动手做。"
   ]
  }
 ],
 "metadata": {
  "language_info": {
   "codemirror_mode": {
    "name": "ipython",
    "version": 3
   },
   "file_extension": ".py",
   "mimetype": "text/x-python",
   "name": "python",
   "nbconvert_exporter": "python",
   "pygments_lexer": "ipython3",
   "version": "3.7.6-final"
  },
  "orig_nbformat": 2,
  "kernelspec": {
   "name": "python3",
   "display_name": "Python 3"
  }
 },
 "nbformat": 4,
 "nbformat_minor": 2
}